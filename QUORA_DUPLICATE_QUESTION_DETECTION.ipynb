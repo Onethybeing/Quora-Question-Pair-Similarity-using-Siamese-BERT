{
  "metadata": {
    "kernelspec": {
      "language": "python",
      "display_name": "Python 3",
      "name": "python3"
    },
    "language_info": {
      "pygments_lexer": "ipython3",
      "nbconvert_exporter": "python",
      "version": "3.6.4",
      "file_extension": ".py",
      "codemirror_mode": {
        "name": "ipython",
        "version": 3
      },
      "name": "python",
      "mimetype": "text/x-python"
    },
    "colab": {
      "provenance": []
    }
  },
  "nbformat_minor": 0,
  "nbformat": 4,
  "cells": [
    {
      "cell_type": "code",
      "source": [
        "!unzip \"/content/quora-question-pairs.zip\" -d /content"
      ],
      "metadata": {
        "id": "ynOZlYwLxaYQ"
      },
      "execution_count": null,
      "outputs": []
    },
    {
      "cell_type": "code",
      "source": [
        "# ✅ Unzip train.csv.zip\n",
        "!unzip /content/train.csv.zip -d /content\n",
        "\n",
        "# ✅ Import pandas and read CSV with correct encoding\n",
        "import pandas as pd\n",
        "dataset = pd.read_csv(\"/content/train.csv\", encoding='latin1')\n",
        "\n",
        "# ✅ Show first few rows to confirm\n",
        "dataset.head()"
      ],
      "metadata": {
        "_kg_hide-input": true,
        "_kg_hide-output": true,
        "execution": {
          "iopub.status.busy": "2022-11-04T15:48:17.574453Z",
          "iopub.execute_input": "2022-11-04T15:48:17.575329Z",
          "iopub.status.idle": "2022-11-04T15:48:19.327764Z",
          "shell.execute_reply.started": "2022-11-04T15:48:17.575226Z",
          "shell.execute_reply": "2022-11-04T15:48:19.326798Z"
        },
        "trusted": true,
        "id": "Ypn_Fmm34dfq"
      },
      "execution_count": null,
      "outputs": []
    },
    {
      "cell_type": "code",
      "source": [
        "import numpy as np\n",
        "import pandas as pd\n",
        "import os\n",
        "import matplotlib.pyplot as plt\n",
        "import seaborn as sns\n",
        "from wordcloud import WordCloud, STOPWORDS, ImageColorGenerator\n",
        "import plotly.express as px\n",
        "from plotly.offline import init_notebook_mode\n",
        "import re\n",
        "import nltk\n",
        "from nltk.corpus import stopwords\n",
        "from tqdm import tqdm\n",
        "from nltk.stem import WordNetLemmatizer\n",
        "import spacy\n",
        "\n",
        "nltk.download('omw-1.4')\n",
        "tqdm.pandas()\n",
        "spacy_eng = spacy.load(\"en_core_web_sm\")\n",
        "nltk.download('stopwords')\n",
        "lemm = WordNetLemmatizer()\n",
        "init_notebook_mode(connected=True)\n",
        "sns.set_style(\"darkgrid\")\n",
        "plt.rcParams['figure.figsize'] = (20,8)\n",
        "plt.rcParams['font.size'] = 18"
      ],
      "metadata": {
        "_uuid": "8f2839f25d086af736a60e9eeb907d3b93b6e0e5",
        "_cell_guid": "b1076dfc-b9ad-4769-8c92-a6c4dae69d19",
        "execution": {
          "iopub.status.busy": "2022-11-04T15:48:19.329789Z",
          "iopub.execute_input": "2022-11-04T15:48:19.33009Z",
          "iopub.status.idle": "2022-11-04T15:48:24.46454Z",
          "shell.execute_reply.started": "2022-11-04T15:48:19.330058Z",
          "shell.execute_reply": "2022-11-04T15:48:24.463473Z"
        },
        "trusted": true,
        "id": "P0Q-G_JY4dfr"
      },
      "execution_count": null,
      "outputs": []
    },
    {
      "cell_type": "markdown",
      "source": [
        "# Quora Question Semantic Similarity\n",
        "<div class='alert alert-danger'><strong>Quora: </strong>It is a place to gain and share knowledge. It's a platform to ask questions and connect with people who contribute unique insights and quality answers.</div>\n",
        "\n",
        "**Semantic similarity** is a metric defined over a set of documents or terms, where the idea of distance between items is based on the likeness of their meaning or semantic content as opposed to lexicographical similarity.\n",
        "- Semantic Similarity has various applications, such as information retrieval, text summarization, sentiment analysis, etc.\n",
        "- For quora **information retrieval** serves an important purpose as users who post questions on the platform can/may find questions that are similar in meaning that have already been answered. Questions that are also semantically similar in nature can draw a user's attention to new content as well.\n",
        "\n",
        "<div class='alert alert-info'><strong>Note: </strong>Finding similarity semantically between sentences is different than finding similarity between sentences based on common keywords. Here the sentences in question need to have same meaning to be regarded as similar in nature.</div>\n",
        "\n",
        "<img src='https://www.x-cart.com/wp-content/uploads/2019/08/selling_on_quora-1.jpg'>\n",
        "\n",
        "## Example of Semantic Similarity\n",
        "\n",
        "<img src='https://images.prismic.io/peltarionv2/da5efe51-bbf2-4fff-96fd-7aff1371f931_Textsimilarity_blog-02.png?auto=compress%2Cformat&rect=0%2C0%2C5414%2C1874&w=1300&h=450'>"
      ],
      "metadata": {
        "id": "kfrpHe6O4dfs"
      }
    },
    {
      "cell_type": "markdown",
      "source": [
        "# Data Cleaning and EDA\n",
        "- Cleaning and preprocessing text data\n",
        "- Finding insights about sentence lengths and words present in them"
      ],
      "metadata": {
        "id": "5b9jPSat4dfs"
      }
    },
    {
      "cell_type": "code",
      "source": [
        "!unzip -l train.csv.zip"
      ],
      "metadata": {
        "id": "xYpSbcBQxAKP"
      },
      "execution_count": null,
      "outputs": []
    },
    {
      "cell_type": "code",
      "source": [
        "data = pd.read_csv(\"train.csv\")\n",
        "data.head(10)"
      ],
      "metadata": {
        "execution": {
          "iopub.status.busy": "2022-11-04T15:48:24.465931Z",
          "iopub.execute_input": "2022-11-04T15:48:24.466961Z",
          "iopub.status.idle": "2022-11-04T15:48:25.776529Z",
          "shell.execute_reply.started": "2022-11-04T15:48:24.466889Z",
          "shell.execute_reply": "2022-11-04T15:48:25.775597Z"
        },
        "trusted": true,
        "id": "ri8FCzii4dfs"
      },
      "execution_count": null,
      "outputs": []
    },
    {
      "cell_type": "markdown",
      "source": [
        "## Remove Null Values"
      ],
      "metadata": {
        "id": "_bN7nl7J4dfs"
      }
    },
    {
      "cell_type": "code",
      "source": [
        "data.isnull().sum()"
      ],
      "metadata": {
        "execution": {
          "iopub.status.busy": "2022-11-04T15:48:25.778945Z",
          "iopub.execute_input": "2022-11-04T15:48:25.77926Z",
          "iopub.status.idle": "2022-11-04T15:48:25.850134Z",
          "shell.execute_reply.started": "2022-11-04T15:48:25.779221Z",
          "shell.execute_reply": "2022-11-04T15:48:25.849118Z"
        },
        "trusted": true,
        "id": "6vFAHWO44dft"
      },
      "execution_count": null,
      "outputs": []
    },
    {
      "cell_type": "code",
      "source": [
        "data.dropna(inplace=True)"
      ],
      "metadata": {
        "execution": {
          "iopub.status.busy": "2022-11-04T15:48:25.851864Z",
          "iopub.execute_input": "2022-11-04T15:48:25.852219Z",
          "iopub.status.idle": "2022-11-04T15:48:25.98515Z",
          "shell.execute_reply.started": "2022-11-04T15:48:25.852177Z",
          "shell.execute_reply": "2022-11-04T15:48:25.984063Z"
        },
        "trusted": true,
        "id": "ivPg29nY4dft"
      },
      "execution_count": null,
      "outputs": []
    },
    {
      "cell_type": "markdown",
      "source": [
        "## Duplicate and Non-Duplicate Data Distribution\n",
        "- Duplicate or similar questions are lesser in number which is to be expected as a platform for question answering will tend to have more unique questions in comparison to the questions that have been previously asked"
      ],
      "metadata": {
        "id": "p0TCThI44dft"
      }
    },
    {
      "cell_type": "code",
      "source": [
        "fig = px.pie(data, values='id', names='is_duplicate', height=600, title='Proportion of Duplicate and Non Duplicate Questions')\n",
        "fig.show()"
      ],
      "metadata": {
        "execution": {
          "iopub.status.busy": "2022-11-04T15:48:25.986379Z",
          "iopub.execute_input": "2022-11-04T15:48:25.986635Z",
          "iopub.status.idle": "2022-11-04T15:48:29.070366Z",
          "shell.execute_reply.started": "2022-11-04T15:48:25.986606Z",
          "shell.execute_reply": "2022-11-04T15:48:29.06918Z"
        },
        "trusted": true,
        "id": "Us7jR1Ns4dft"
      },
      "execution_count": null,
      "outputs": []
    },
    {
      "cell_type": "markdown",
      "source": [
        "## Text Cleaning\n",
        "- Since the context of sentences are important for this NLP problem removal of stopwords might affect both the grammatical as well as semantic meaning of the sentences\n",
        "- For similar reasons the words are not lemmatized or stemmed so that the semantic meaning of the sentence remains intact\n",
        "- Therefore very basic cleaning is performed on the text data like removal of extra spaces and special characters"
      ],
      "metadata": {
        "id": "zX5ccyDq4dft"
      }
    },
    {
      "cell_type": "code",
      "source": [
        "def text_cleaning(x):\n",
        "\n",
        "    questions = re.sub('\\s+\\n+', ' ', x)\n",
        "    questions = re.sub('[^a-zA-Z0-9]', ' ', questions)\n",
        "    questions = questions.lower()\n",
        "\n",
        "    return questions"
      ],
      "metadata": {
        "execution": {
          "iopub.status.busy": "2022-11-04T15:48:29.07224Z",
          "iopub.execute_input": "2022-11-04T15:48:29.072575Z",
          "iopub.status.idle": "2022-11-04T15:48:29.080839Z",
          "shell.execute_reply.started": "2022-11-04T15:48:29.072539Z",
          "shell.execute_reply": "2022-11-04T15:48:29.08011Z"
        },
        "trusted": true,
        "id": "jYbgoeWA4dft"
      },
      "execution_count": null,
      "outputs": []
    },
    {
      "cell_type": "code",
      "source": [
        "data['question1_cleaned'] = data['question1'].progress_apply(text_cleaning)\n",
        "data['question2_cleaned'] = data['question2'].progress_apply(text_cleaning)\n",
        "data"
      ],
      "metadata": {
        "execution": {
          "iopub.status.busy": "2022-11-04T15:48:29.08196Z",
          "iopub.execute_input": "2022-11-04T15:48:29.082634Z",
          "iopub.status.idle": "2022-11-04T15:48:36.333667Z",
          "shell.execute_reply.started": "2022-11-04T15:48:29.082598Z",
          "shell.execute_reply": "2022-11-04T15:48:36.332546Z"
        },
        "trusted": true,
        "id": "SUFMKffo4dft"
      },
      "execution_count": null,
      "outputs": []
    },
    {
      "cell_type": "markdown",
      "source": [
        "## Sentence Length Distributions\n",
        "- Here the objective is to find the ideal length of the sentence that should be used in our model\n",
        "- In many cases the maximum sentence length is taken for embedding representations but by looking at the sentence length distributions a more informed decision can be made which will help in reducing the parameters of our model\n",
        "- For transformers based models masks usually mask out the sentences which are short but are padded to a longer length, but since we are focused on finding the ideal length statistically we will go ahead with that"
      ],
      "metadata": {
        "id": "5msY1aQA4dft"
      }
    },
    {
      "cell_type": "code",
      "source": [
        "data['question1_lens'] = data['question1_cleaned'].apply(lambda x: len(x.split()))\n",
        "data['question2_lens'] = data['question2_cleaned'].apply(lambda x: len(x.split()))"
      ],
      "metadata": {
        "execution": {
          "iopub.status.busy": "2022-11-04T15:48:36.336758Z",
          "iopub.execute_input": "2022-11-04T15:48:36.337121Z",
          "iopub.status.idle": "2022-11-04T15:48:37.260379Z",
          "shell.execute_reply.started": "2022-11-04T15:48:36.337077Z",
          "shell.execute_reply": "2022-11-04T15:48:37.25952Z"
        },
        "trusted": true,
        "id": "lSu2BwaU4dft"
      },
      "execution_count": null,
      "outputs": []
    },
    {
      "cell_type": "code",
      "source": [
        "px.histogram(data, x=\"question1_lens\",height=700, color='is_duplicate', title=\"Question1 Length Distribution\", marginal=\"box\")"
      ],
      "metadata": {
        "execution": {
          "iopub.status.busy": "2022-11-04T15:48:37.262152Z",
          "iopub.execute_input": "2022-11-04T15:48:37.26286Z",
          "iopub.status.idle": "2022-11-04T15:48:41.307722Z",
          "shell.execute_reply.started": "2022-11-04T15:48:37.262809Z",
          "shell.execute_reply": "2022-11-04T15:48:41.306181Z"
        },
        "trusted": true,
        "id": "_PowZ1z04dft"
      },
      "execution_count": null,
      "outputs": []
    },
    {
      "cell_type": "code",
      "source": [
        "px.histogram(data, x=\"question2_lens\",height=700, color='is_duplicate', title=\"Question2 Length Distribution\", marginal=\"box\")"
      ],
      "metadata": {
        "execution": {
          "iopub.status.busy": "2022-11-04T15:48:41.309228Z",
          "iopub.execute_input": "2022-11-04T15:48:41.309484Z",
          "iopub.status.idle": "2022-11-04T15:48:44.842354Z",
          "shell.execute_reply.started": "2022-11-04T15:48:41.309455Z",
          "shell.execute_reply": "2022-11-04T15:48:44.841618Z"
        },
        "trusted": true,
        "id": "AgNh8Gki4dft"
      },
      "execution_count": null,
      "outputs": []
    },
    {
      "cell_type": "markdown",
      "source": [
        "## Word Cloud Visualization\n",
        "- Word clouds help in visually identifying the most frequent words present in the sentences which also give a brief idea what the context of the sentences are\n",
        "- Two wordclouds are visualized below for both pairs of sentences"
      ],
      "metadata": {
        "id": "Q2B3kdLN4dft"
      }
    },
    {
      "cell_type": "code",
      "source": [
        "question1 = data['question1_cleaned'].tolist()\n",
        "question2 = data['question2_cleaned'].tolist()"
      ],
      "metadata": {
        "execution": {
          "iopub.status.busy": "2022-11-04T15:48:44.843751Z",
          "iopub.execute_input": "2022-11-04T15:48:44.844132Z",
          "iopub.status.idle": "2022-11-04T15:48:44.863456Z",
          "shell.execute_reply.started": "2022-11-04T15:48:44.844097Z",
          "shell.execute_reply": "2022-11-04T15:48:44.862455Z"
        },
        "trusted": true,
        "id": "7zGHwWST4dfu"
      },
      "execution_count": null,
      "outputs": []
    },
    {
      "cell_type": "code",
      "source": [
        "wordcloud = WordCloud(max_words=1500, width=600, background_color='black').generate(\" \".join(question1))\n",
        "plt.imshow(wordcloud, interpolation='bilinear')\n",
        "plt.title(\"Words from Question1\")\n",
        "plt.axis(\"off\")\n",
        "plt.show()"
      ],
      "metadata": {
        "execution": {
          "iopub.status.busy": "2022-11-04T15:48:44.86475Z",
          "iopub.execute_input": "2022-11-04T15:48:44.865743Z",
          "iopub.status.idle": "2022-11-04T15:49:00.787333Z",
          "shell.execute_reply.started": "2022-11-04T15:48:44.865708Z",
          "shell.execute_reply": "2022-11-04T15:49:00.786351Z"
        },
        "trusted": true,
        "id": "dC3zmMiK4dfu"
      },
      "execution_count": null,
      "outputs": []
    },
    {
      "cell_type": "code",
      "source": [
        "wordcloud = WordCloud(max_words=1500, width=600, background_color='black').generate(\" \".join(question2))\n",
        "plt.imshow(wordcloud, interpolation='bilinear')\n",
        "plt.title(\"Words from Question2\")\n",
        "plt.axis(\"off\")\n",
        "plt.show()"
      ],
      "metadata": {
        "execution": {
          "iopub.status.busy": "2022-11-04T15:49:00.788697Z",
          "iopub.execute_input": "2022-11-04T15:49:00.788991Z",
          "iopub.status.idle": "2022-11-04T15:49:16.435674Z",
          "shell.execute_reply.started": "2022-11-04T15:49:00.788955Z",
          "shell.execute_reply": "2022-11-04T15:49:16.434725Z"
        },
        "trusted": true,
        "id": "uPVcCglI4dfu"
      },
      "execution_count": null,
      "outputs": []
    },
    {
      "cell_type": "markdown",
      "source": [
        "## Ideal Sentence Length\n",
        "- By looking at both the distrbution plots and descriptive statistics it is pretty clear that taking the maximum sentence length won't make much sense of our model\n",
        "- The descriptive stats also represent the likeliness of an extremely long sentence really occuring on a platform like Quora\n",
        "- Since the descriptive stats of both the pairs of questions look very similar lets analyse any one of them to find the upper outlier\n",
        "- Once this upper outlier is found we can choose a number nearby to it to be our ideal sentence length for our embedding representation"
      ],
      "metadata": {
        "id": "_IivkS2m4dfu"
      }
    },
    {
      "cell_type": "code",
      "source": [
        "data['question1_lens'].describe()"
      ],
      "metadata": {
        "execution": {
          "iopub.status.busy": "2022-11-04T15:49:16.436836Z",
          "iopub.execute_input": "2022-11-04T15:49:16.437099Z",
          "iopub.status.idle": "2022-11-04T15:49:16.461315Z",
          "shell.execute_reply.started": "2022-11-04T15:49:16.43707Z",
          "shell.execute_reply": "2022-11-04T15:49:16.460418Z"
        },
        "trusted": true,
        "id": "7vDPStNi4dfu"
      },
      "execution_count": null,
      "outputs": []
    },
    {
      "cell_type": "code",
      "source": [
        "data['question2_lens'].describe()"
      ],
      "metadata": {
        "execution": {
          "iopub.status.busy": "2022-11-04T15:49:16.462636Z",
          "iopub.execute_input": "2022-11-04T15:49:16.462964Z",
          "iopub.status.idle": "2022-11-04T15:49:16.486899Z",
          "shell.execute_reply.started": "2022-11-04T15:49:16.462925Z",
          "shell.execute_reply": "2022-11-04T15:49:16.485797Z"
        },
        "trusted": true,
        "id": "jKrJb8qB4dfu"
      },
      "execution_count": null,
      "outputs": []
    },
    {
      "cell_type": "code",
      "source": [
        "q1 = data['question1_lens'].quantile(0.25)\n",
        "q3 = data['question1_lens'].quantile(0.75)\n",
        "\n",
        "upper_outlier = q3 + 1.5*(q3-q1)\n",
        "print(upper_outlier)"
      ],
      "metadata": {
        "execution": {
          "iopub.status.busy": "2022-11-04T15:49:16.488026Z",
          "iopub.execute_input": "2022-11-04T15:49:16.488325Z",
          "iopub.status.idle": "2022-11-04T15:49:16.50789Z",
          "shell.execute_reply.started": "2022-11-04T15:49:16.488296Z",
          "shell.execute_reply": "2022-11-04T15:49:16.507023Z"
        },
        "trusted": true,
        "id": "3dmtocXE4dfu"
      },
      "execution_count": null,
      "outputs": []
    },
    {
      "cell_type": "markdown",
      "source": [
        "**Inference:** Upper outlier is 22, lets take 50 to be the ideal length so that some of the extremely long sentences can also be represented well enough for our model"
      ],
      "metadata": {
        "id": "hRkyu28c4dfu"
      }
    },
    {
      "cell_type": "markdown",
      "source": [
        "# Modelling\n",
        "\n",
        "For the purpose of performing semantic similarity we are going to use **Siamese Neural Networks**\n",
        "\n",
        "<div class='alert alert-info'><strong>Note: </strong>A <strong>Siamese Neural Network (SNN)</strong> is a class of neural network architectures that contain two or more identical sub-networks. “Identical” here means they have the same configuration with the same parameters and weights. These networks are used to find the similarity of the inputs by comparing their feature vectors.</div>\n",
        "\n",
        "They were termed as siamese networks due to the term Siamese twins, which comes from the twin conjoined brothers Chang and Eng Bunker who were born in Siam, now Thailand.\n",
        "- The idea of having twin neural networks with same parameter and configurations is to extract features using the same setting for two different sentences\n",
        "- Followed by this setting usually a distance layer is added to calculate the distance between the feature embeddings followed by dense layers and classification head\n",
        "- For our problem statement we will use two variations of the siamese network\n",
        "    - Original Siamese Network with L1 Distance Layer\n",
        "    - Siamese Network with Triplet Loss\n",
        "\n",
        "<img src='https://img.freepik.com/free-photo/portrait-two-identical-siamese-cats_158595-5728.jpg?w=2000'>\n"
      ],
      "metadata": {
        "id": "D9V40J5X4dfu"
      }
    },
    {
      "cell_type": "code",
      "source": [
        "import tensorflow as tf\n",
        "from tensorflow.keras.preprocessing.text import Tokenizer\n",
        "from tensorflow.keras.preprocessing.sequence import pad_sequences\n",
        "from tensorflow.keras.utils import to_categorical\n",
        "from tensorflow.keras.models import Sequential, Model\n",
        "from tensorflow.keras import layers\n",
        "from tensorflow.keras.layers import Embedding, Layer, Dense, Dropout, MultiHeadAttention, LayerNormalization, Input, GlobalAveragePooling1D\n",
        "from tensorflow.keras.layers import LSTM, Bidirectional\n",
        "from tensorflow.keras.callbacks import ModelCheckpoint, EarlyStopping, ReduceLROnPlateau\n",
        "from sklearn.model_selection import train_test_split\n",
        "from transformers import AutoTokenizer,DataCollatorWithPadding,TFAutoModel,DistilBertConfig,TFDistilBertModel, BertConfig, TFBertModel, TFRobertaModel\n",
        "from datasets import load_dataset"
      ],
      "metadata": {
        "execution": {
          "iopub.status.busy": "2022-11-04T15:49:16.509235Z",
          "iopub.execute_input": "2022-11-04T15:49:16.509535Z",
          "iopub.status.idle": "2022-11-04T15:49:24.288729Z",
          "shell.execute_reply.started": "2022-11-04T15:49:16.509507Z",
          "shell.execute_reply": "2022-11-04T15:49:24.287844Z"
        },
        "trusted": true,
        "id": "l6YHH6S84dfu"
      },
      "execution_count": null,
      "outputs": []
    },
    {
      "cell_type": "markdown",
      "source": [
        "## Siamese BERT\n",
        "- For the backbone of our siamese neural network we will use a pretrained BERT model (since we required similar weights)\n",
        "- BERT is an open source machine learning framework for natural language processing (NLP). BERT is designed to help computers understand the meaning of ambiguous language in text by using surrounding text to establish context.\n",
        "- We will use just the encoder part of the BERT model for our problem\n",
        "- The BERT variant that we are going to use is the base model\n",
        "- Some other alternative of sequential models like RNN based models aren't used because they do not really have the concept of \"transfer learning\" in them and also they are computationally very expensive to train when it comes to attention mechanism.\n",
        "\n",
        "<img src='https://paul-hyun.github.io/assets/2020-01-02/bert-classification.png'>"
      ],
      "metadata": {
        "id": "OhFNuZUv4dfv"
      }
    },
    {
      "cell_type": "code",
      "source": [
        "model_checkpoint = 'bert-base-uncased'\n",
        "tokenizer = AutoTokenizer.from_pretrained(model_checkpoint)"
      ],
      "metadata": {
        "execution": {
          "iopub.status.busy": "2022-11-04T15:49:24.290087Z",
          "iopub.execute_input": "2022-11-04T15:49:24.290329Z",
          "iopub.status.idle": "2022-11-04T15:49:25.720308Z",
          "shell.execute_reply.started": "2022-11-04T15:49:24.290301Z",
          "shell.execute_reply": "2022-11-04T15:49:25.719153Z"
        },
        "trusted": true,
        "id": "mWR5-lmy4dfv"
      },
      "execution_count": null,
      "outputs": []
    },
    {
      "cell_type": "markdown",
      "source": [
        "## BERT Text Tokenizer\n",
        "- Generates\n",
        "    - Padded Encodings\n",
        "    - Attention Masks"
      ],
      "metadata": {
        "id": "BT16gdon4dfv"
      }
    },
    {
      "cell_type": "code",
      "source": [
        "def encode_text(text, tokenizer):\n",
        "\n",
        "    encoded = tokenizer.batch_encode_plus(\n",
        "        text,\n",
        "        add_special_tokens=True,\n",
        "        max_length=50,\n",
        "        padding='max_length',\n",
        "        truncation=True,\n",
        "        return_attention_mask=True,\n",
        "        return_tensors=\"tf\",\n",
        "    )\n",
        "\n",
        "    input_ids = np.array(encoded[\"input_ids\"], dtype=\"int32\")\n",
        "    attention_masks = np.array(encoded[\"attention_mask\"], dtype=\"int32\")\n",
        "\n",
        "    return {\n",
        "        \"input_ids\": input_ids,\n",
        "        \"attention_masks\": attention_masks\n",
        "    }"
      ],
      "metadata": {
        "execution": {
          "iopub.status.busy": "2022-11-04T15:49:25.722218Z",
          "iopub.execute_input": "2022-11-04T15:49:25.722545Z",
          "iopub.status.idle": "2022-11-04T15:49:25.730873Z",
          "shell.execute_reply.started": "2022-11-04T15:49:25.722501Z",
          "shell.execute_reply": "2022-11-04T15:49:25.729738Z"
        },
        "trusted": true,
        "id": "_njhi5mY4dfv"
      },
      "execution_count": null,
      "outputs": []
    },
    {
      "cell_type": "markdown",
      "source": [
        "## Data Splitting\n",
        "- 400000 data is sampled for our task\n",
        "- 80:20 split is performed on the data\n",
        "    - 80% for Training\n",
        "    - 20% for Validation"
      ],
      "metadata": {
        "id": "Yx0aJG5o4dfv"
      }
    },
    {
      "cell_type": "code",
      "source": [
        "data = data.sample(400000)\n",
        "train = data.iloc[:int(400000*0.80),:]\n",
        "val = data.iloc[int(400000*0.80):,:]\n",
        "\n",
        "X1_train = encode_text(train['question1_cleaned'].tolist(), tokenizer)\n",
        "X2_train = encode_text(train['question2_cleaned'].tolist(), tokenizer)\n",
        "X1_val = encode_text(val['question1_cleaned'].tolist(), tokenizer)\n",
        "X2_val = encode_text(val['question2_cleaned'].tolist(), tokenizer)\n",
        "\n",
        "y_train = train['is_duplicate'].values\n",
        "y_val = val['is_duplicate'].values"
      ],
      "metadata": {
        "execution": {
          "iopub.status.busy": "2022-11-04T15:49:25.732813Z",
          "iopub.execute_input": "2022-11-04T15:49:25.733197Z",
          "iopub.status.idle": "2022-11-04T15:50:11.649094Z",
          "shell.execute_reply.started": "2022-11-04T15:49:25.733154Z",
          "shell.execute_reply": "2022-11-04T15:50:11.648306Z"
        },
        "trusted": true,
        "id": "q5y64ouO4dfv"
      },
      "execution_count": null,
      "outputs": []
    },
    {
      "cell_type": "markdown",
      "source": [
        "## TPU Configuration"
      ],
      "metadata": {
        "id": "GLJ-Eo9q4dfv"
      }
    },
    {
      "cell_type": "code",
      "source": [
        "try:\n",
        "    tpu = tf.distribute.cluster_resolver.TPUClusterResolver()\n",
        "    tf.config.experimental_connect_to_cluster(tpu)\n",
        "    tf.tpu.experimental.initialize_tpu_system(tpu)\n",
        "    strategy = tf.distribute.experimental.TPUStrategy(tpu)\n",
        "    BATCH_SIZE = strategy.num_replicas_in_sync * 4\n",
        "    print(\"Running on TPU:\", tpu.master())\n",
        "    print(f\"Batch Size: {BATCH_SIZE}\")\n",
        "\n",
        "except ValueError:\n",
        "    strategy = tf.distribute.get_strategy()\n",
        "    BATCH_SIZE = 32\n",
        "    print(f\"Running on {strategy.num_replicas_in_sync} replicas\")\n",
        "    print(f\"Batch Size: {BATCH_SIZE}\")"
      ],
      "metadata": {
        "execution": {
          "iopub.status.busy": "2022-11-04T15:50:11.650217Z",
          "iopub.execute_input": "2022-11-04T15:50:11.650455Z",
          "iopub.status.idle": "2022-11-04T15:50:17.554697Z",
          "shell.execute_reply.started": "2022-11-04T15:50:11.650427Z",
          "shell.execute_reply": "2022-11-04T15:50:17.553706Z"
        },
        "trusted": true,
        "id": "2j_hcByo4dfv"
      },
      "execution_count": null,
      "outputs": []
    },
    {
      "cell_type": "markdown",
      "source": [
        "# Original Siamese Network with L1 Distance Layer\n",
        "- This architecture uses the BERT twin backbone and applies the L1 distance on the embeddings returned by the backbone\n",
        "- The L1 distance features are then fed to a dense layer to capture the non linearities\n",
        "- Then the final layer is a sigmoid neuron which classfies whether the non linear activated distance features indicate if the sentences are similar or dissimilar\n",
        "\n",
        "<img src='https://www.frontiersin.org/files/Articles/839586/fbioe-10-839586-HTML/image_m/fbioe-10-839586-g002.jpg'>"
      ],
      "metadata": {
        "id": "gm_uq95d4dfv"
      }
    },
    {
      "cell_type": "code",
      "source": [
        "class L1Dist(Layer):\n",
        "\n",
        "    def __init__(self,**kwargs):\n",
        "        super().__init__()\n",
        "\n",
        "    def call(self,embedding1,embedding2):\n",
        "        return tf.math.abs(embedding1 - embedding2)"
      ],
      "metadata": {
        "execution": {
          "iopub.status.busy": "2022-11-04T15:50:17.556026Z",
          "iopub.execute_input": "2022-11-04T15:50:17.556279Z",
          "iopub.status.idle": "2022-11-04T15:50:17.561378Z",
          "shell.execute_reply.started": "2022-11-04T15:50:17.556251Z",
          "shell.execute_reply": "2022-11-04T15:50:17.560412Z"
        },
        "trusted": true,
        "id": "XGAbv-RE4dfv"
      },
      "execution_count": null,
      "outputs": []
    },
    {
      "cell_type": "code",
      "source": [
        "from tensorflow.keras.layers import Input, Dense, GlobalAveragePooling1D, Lambda\n",
        "from tensorflow.keras.models import Model\n",
        "from transformers import TFBertModel\n",
        "import tensorflow as tf\n",
        "\n",
        "model_checkpoint = \"bert-base-uncased\"\n",
        "\n",
        "# Load BERT model\n",
        "transformer_model = TFBertModel.from_pretrained(model_checkpoint)\n",
        "\n",
        "# Inputs\n",
        "input_ids_in1 = Input(shape=(None,), name='input_ids1', dtype=tf.int32)\n",
        "input_masks_in1 = Input(shape=(None,), name='attention_mask1', dtype=tf.int32)\n",
        "input_ids_in2 = Input(shape=(None,), name='input_ids2', dtype=tf.int32)\n",
        "input_masks_in2 = Input(shape=(None,), name='attention_mask2', dtype=tf.int32)\n",
        "\n",
        "# Wrap BERT call in Lambda layer\n",
        "def bert_embedding(inputs):\n",
        "    ids, masks = inputs\n",
        "    output = transformer_model(ids, attention_mask=masks)\n",
        "    return output.last_hidden_state\n",
        "\n",
        "embedding_layer1 = Lambda(bert_embedding)([input_ids_in1, input_masks_in1])\n",
        "embedding_layer2 = Lambda(bert_embedding)([input_ids_in2, input_masks_in2])\n",
        "\n",
        "# Pooling\n",
        "embedding1 = GlobalAveragePooling1D()(embedding_layer1)\n",
        "embedding2 = GlobalAveragePooling1D()(embedding_layer2)\n",
        "\n",
        "# L1 distance layer\n",
        "l1_dist = tf.abs(embedding1 - embedding2)\n",
        "\n",
        "# Dense layers\n",
        "x = Dense(512, activation='relu')(l1_dist)\n",
        "output = Dense(1, activation='sigmoid')(x)\n",
        "\n",
        "# Model\n",
        "model = Model(inputs=[input_ids_in1, input_masks_in1, input_ids_in2, input_masks_in2], outputs=output)\n",
        "model.compile(loss='binary_crossentropy', optimizer=tf.keras.optimizers.Adam(learning_rate=1e-5), metrics=['accuracy'])\n"
      ],
      "metadata": {
        "id": "nd8ZAxZf76rW"
      },
      "execution_count": null,
      "outputs": []
    },
    {
      "cell_type": "code",
      "source": [
        "with strategy.scope():\n",
        "    transformer_model = TFBertModel.from_pretrained(model_checkpoint)\n",
        "\n",
        "    input_ids_in1 = Input(shape=(None,),name='input_ids1', dtype='int32')\n",
        "    input_masks_in1 = Input(shape=(None,), name='attention_mask1', dtype='int32')\n",
        "    input_ids_in2 = Input(shape=(None,),name='input_ids2', dtype='int32')\n",
        "    input_masks_in2 = Input(shape=(None,), name='attention_mask2', dtype='int32')\n",
        "\n",
        "    embedding_layer1 = transformer_model(input_ids_in1, attention_mask=input_masks_in1).last_hidden_state\n",
        "    embedding_layer2 = transformer_model(input_ids_in2, attention_mask=input_masks_in2).last_hidden_state\n",
        "\n",
        "    embedding1 = GlobalAveragePooling1D()(embedding_layer1)\n",
        "    embedding2 = GlobalAveragePooling1D()(embedding_layer2)\n",
        "    l1_dist = L1Dist()(embedding1,embedding2)\n",
        "\n",
        "    x = Dense(512, activation='relu')(l1_dist)\n",
        "    output = Dense(1, activation='sigmoid')(x)\n",
        "\n",
        "    model = Model(inputs=[input_ids_in1, input_masks_in1, input_ids_in2, input_masks_in2], outputs = output)\n",
        "    model.compile(loss='binary_crossentropy',optimizer=tf.keras.optimizers.Adam(learning_rate=0.00001),metrics='accuracy')"
      ],
      "metadata": {
        "execution": {
          "iopub.status.busy": "2022-11-04T15:50:17.56572Z",
          "iopub.execute_input": "2022-11-04T15:50:17.566116Z",
          "iopub.status.idle": "2022-11-04T15:50:56.005865Z",
          "shell.execute_reply.started": "2022-11-04T15:50:17.566072Z",
          "shell.execute_reply": "2022-11-04T15:50:56.004858Z"
        },
        "trusted": true,
        "id": "0aZ7AiAb4dfv"
      },
      "execution_count": null,
      "outputs": []
    },
    {
      "cell_type": "code",
      "source": [
        "for layer in model.layers[:5]:\n",
        "    layer.trainable = False"
      ],
      "metadata": {
        "execution": {
          "iopub.status.busy": "2022-11-04T15:50:56.007359Z",
          "iopub.execute_input": "2022-11-04T15:50:56.007735Z",
          "iopub.status.idle": "2022-11-04T15:50:56.019898Z",
          "shell.execute_reply.started": "2022-11-04T15:50:56.007692Z",
          "shell.execute_reply": "2022-11-04T15:50:56.018803Z"
        },
        "trusted": true,
        "id": "bOLZyEAw4df3"
      },
      "execution_count": null,
      "outputs": []
    },
    {
      "cell_type": "code",
      "source": [
        "model.summary()"
      ],
      "metadata": {
        "execution": {
          "iopub.status.busy": "2022-11-04T15:50:56.021179Z",
          "iopub.execute_input": "2022-11-04T15:50:56.021476Z",
          "iopub.status.idle": "2022-11-04T15:50:56.054231Z",
          "shell.execute_reply.started": "2022-11-04T15:50:56.021445Z",
          "shell.execute_reply": "2022-11-04T15:50:56.053058Z"
        },
        "trusted": true,
        "id": "mw2SG5zT4df3"
      },
      "execution_count": null,
      "outputs": []
    },
    {
      "cell_type": "code",
      "source": [
        "from tensorflow.keras.callbacks import EarlyStopping, ReduceLROnPlateau"
      ],
      "metadata": {
        "execution": {
          "iopub.status.busy": "2022-11-04T15:50:56.056145Z",
          "iopub.execute_input": "2022-11-04T15:50:56.05649Z",
          "iopub.status.idle": "2022-11-04T15:50:56.062335Z",
          "shell.execute_reply.started": "2022-11-04T15:50:56.056446Z",
          "shell.execute_reply": "2022-11-04T15:50:56.061366Z"
        },
        "trusted": true,
        "id": "IS2R4ann4df3"
      },
      "execution_count": null,
      "outputs": []
    },
    {
      "cell_type": "code",
      "source": [
        "earlystopping = EarlyStopping(monitor='val_loss',min_delta = 0, patience = 5, verbose = 1, restore_best_weights=True)\n",
        "\n",
        "learning_rate_reduction = ReduceLROnPlateau(monitor='val_loss',\n",
        "                                            patience=3,\n",
        "                                            verbose=1,\n",
        "                                            factor=0.3,\n",
        "                                            min_lr=0.00000001)"
      ],
      "metadata": {
        "execution": {
          "iopub.status.busy": "2022-11-04T15:50:56.064205Z",
          "iopub.execute_input": "2022-11-04T15:50:56.064541Z",
          "iopub.status.idle": "2022-11-04T15:50:56.073878Z",
          "shell.execute_reply.started": "2022-11-04T15:50:56.064499Z",
          "shell.execute_reply": "2022-11-04T15:50:56.072468Z"
        },
        "trusted": true,
        "id": "FMd887Bx4df3"
      },
      "execution_count": null,
      "outputs": []
    },
    {
      "cell_type": "code",
      "source": [
        "history = model.fit((np.asarray(X1_train['input_ids']),np.asarray(X1_train['attention_masks']),np.asarray(X2_train['input_ids']),np.asarray(X2_train['attention_masks'])),\n",
        "                    y_train, batch_size=BATCH_SIZE, epochs=5,\n",
        "                    validation_data=((np.asarray(X1_val['input_ids']),np.asarray(X1_val['attention_masks']),np.asarray(X2_val['input_ids']),np.asarray(X2_val['attention_masks'])), y_val),\n",
        "                    callbacks=[earlystopping, learning_rate_reduction])"
      ],
      "metadata": {
        "execution": {
          "iopub.status.busy": "2022-11-04T15:50:56.07518Z",
          "iopub.execute_input": "2022-11-04T15:50:56.075478Z",
          "iopub.status.idle": "2022-11-04T16:45:08.509544Z",
          "shell.execute_reply.started": "2022-11-04T15:50:56.075437Z",
          "shell.execute_reply": "2022-11-04T16:45:08.508503Z"
        },
        "trusted": true,
        "id": "44aOZJ_r4df4"
      },
      "execution_count": null,
      "outputs": []
    },
    {
      "cell_type": "markdown",
      "source": [
        "## Model Inference\n",
        "- Learning Curves\n",
        "- ROC-AUC Curves\n",
        "- Confusion Matrix\n",
        "- Classification Report"
      ],
      "metadata": {
        "id": "p8fwrPwL4df4"
      }
    },
    {
      "cell_type": "markdown",
      "source": [
        "## Learning Curve\n",
        "- Since it is a pretrained model we do not train it for longer epochs, also due to the fact that the validation loss increases after first 3 epochs the training is restricted to 5 epochs\n",
        "- The best weights from the most converged state are taken forward"
      ],
      "metadata": {
        "id": "slKSod6n4df4"
      }
    },
    {
      "cell_type": "code",
      "source": [
        "plt.figure(figsize=(20,8))\n",
        "plt.plot(history.history['loss'])\n",
        "plt.plot(history.history['val_loss'])\n",
        "plt.title('model loss')\n",
        "plt.ylabel('loss')\n",
        "plt.xlabel('epoch')\n",
        "plt.legend(['train', 'val'], loc='upper left')\n",
        "plt.show()"
      ],
      "metadata": {
        "execution": {
          "iopub.status.busy": "2022-11-04T16:46:02.833372Z",
          "iopub.execute_input": "2022-11-04T16:46:02.834088Z",
          "iopub.status.idle": "2022-11-04T16:46:03.152447Z",
          "shell.execute_reply.started": "2022-11-04T16:46:02.834026Z",
          "shell.execute_reply": "2022-11-04T16:46:03.151503Z"
        },
        "trusted": true,
        "id": "K8Q7l0hv4df4"
      },
      "execution_count": null,
      "outputs": []
    },
    {
      "cell_type": "code",
      "source": [
        "plt.figure(figsize=(20,8))\n",
        "plt.plot(history.history['accuracy'])\n",
        "plt.plot(history.history['val_accuracy'])\n",
        "plt.title('Model Accuracy')\n",
        "plt.ylabel('Accuracy')\n",
        "plt.xlabel('epoch')\n",
        "plt.legend(['train', 'val'], loc='upper left')\n",
        "plt.show()"
      ],
      "metadata": {
        "execution": {
          "iopub.status.busy": "2022-11-04T16:46:03.154274Z",
          "iopub.execute_input": "2022-11-04T16:46:03.154513Z",
          "iopub.status.idle": "2022-11-04T16:46:03.510633Z",
          "shell.execute_reply.started": "2022-11-04T16:46:03.154484Z",
          "shell.execute_reply": "2022-11-04T16:46:03.509873Z"
        },
        "trusted": true,
        "id": "nNAVQ4K-4df4"
      },
      "execution_count": null,
      "outputs": []
    },
    {
      "cell_type": "code",
      "source": [
        "y_pred = model.predict((np.asarray(X1_val['input_ids']),np.asarray(X1_val['attention_masks']),np.asarray(X2_val['input_ids']),np.asarray(X2_val['attention_masks'])))"
      ],
      "metadata": {
        "execution": {
          "iopub.status.busy": "2022-11-04T16:46:03.702297Z",
          "iopub.execute_input": "2022-11-04T16:46:03.702629Z",
          "iopub.status.idle": "2022-11-04T16:46:34.843292Z",
          "shell.execute_reply.started": "2022-11-04T16:46:03.702595Z",
          "shell.execute_reply": "2022-11-04T16:46:34.842155Z"
        },
        "trusted": true,
        "id": "hshf6hlv4df4"
      },
      "execution_count": null,
      "outputs": []
    },
    {
      "cell_type": "code",
      "source": [
        "from sklearn.metrics import classification_report, confusion_matrix, roc_auc_score, roc_curve, recall_score"
      ],
      "metadata": {
        "execution": {
          "iopub.status.busy": "2022-11-04T16:46:34.845093Z",
          "iopub.execute_input": "2022-11-04T16:46:34.845661Z",
          "iopub.status.idle": "2022-11-04T16:46:34.850227Z",
          "shell.execute_reply.started": "2022-11-04T16:46:34.845627Z",
          "shell.execute_reply": "2022-11-04T16:46:34.849458Z"
        },
        "trusted": true,
        "id": "8yBIPeYI4df4"
      },
      "execution_count": null,
      "outputs": []
    },
    {
      "cell_type": "markdown",
      "source": [
        "## ROC-AUC Curve\n",
        "- The AUC score of 95% gives a clear indication about the good separability performance of our model\n",
        "- The threshold values can be experimented with to acheive the desirable number of True positives or avoiding False positives"
      ],
      "metadata": {
        "id": "QbOHTHjX4df4"
      }
    },
    {
      "cell_type": "code",
      "source": [
        "plt.figure(figsize=(20,8))\n",
        "fpr, tpr, _ = roc_curve(y_val,  y_pred)\n",
        "auc = roc_auc_score(y_val, y_pred)\n",
        "plt.plot(fpr,tpr,label=\"CNN Model, auc=\"+str(auc),lw=2)\n",
        "plt.plot([0, 1], [0, 1], color=\"orange\", lw=2, linestyle=\"--\")\n",
        "plt.legend(loc=4)\n",
        "plt.show()"
      ],
      "metadata": {
        "execution": {
          "iopub.status.busy": "2022-11-04T16:46:34.851319Z",
          "iopub.execute_input": "2022-11-04T16:46:34.85215Z",
          "iopub.status.idle": "2022-11-04T16:46:35.232643Z",
          "shell.execute_reply.started": "2022-11-04T16:46:34.852117Z",
          "shell.execute_reply": "2022-11-04T16:46:35.23167Z"
        },
        "trusted": true,
        "id": "rYvrR5L04df4"
      },
      "execution_count": null,
      "outputs": []
    },
    {
      "cell_type": "markdown",
      "source": [
        "## Confusion Matrix"
      ],
      "metadata": {
        "id": "iBN8DJJb4df4"
      }
    },
    {
      "cell_type": "code",
      "source": [
        "y_pred[y_pred>=0.5] = 1\n",
        "y_pred[y_pred<0.5] = 0\n",
        "\n",
        "sns.heatmap(confusion_matrix(y_val, y_pred),cmap='viridis',annot=True,fmt='.5g',\n",
        "            xticklabels=['Dissimilar','Similar'],yticklabels=['Dissimilar','Similar'])\n",
        "plt.xlabel('Predicted Class')\n",
        "plt.ylabel('Actual Class')\n",
        "plt.show()"
      ],
      "metadata": {
        "execution": {
          "iopub.status.busy": "2022-11-04T16:46:35.23431Z",
          "iopub.execute_input": "2022-11-04T16:46:35.234547Z",
          "iopub.status.idle": "2022-11-04T16:46:35.808329Z",
          "shell.execute_reply.started": "2022-11-04T16:46:35.234519Z",
          "shell.execute_reply": "2022-11-04T16:46:35.807574Z"
        },
        "trusted": true,
        "id": "0BYRNAzS4df4"
      },
      "execution_count": null,
      "outputs": []
    },
    {
      "cell_type": "markdown",
      "source": [
        "## Classification Report\n",
        "- Our model achieves an F1-score of 89%\n",
        "- F1-score is considered as there is a slight imbalance in the data\n",
        "- Model performs slightlty less accurate for similar classes"
      ],
      "metadata": {
        "id": "mXgjvkma4df4"
      }
    },
    {
      "cell_type": "code",
      "source": [
        "print(classification_report(y_val,y_pred))"
      ],
      "metadata": {
        "execution": {
          "iopub.status.busy": "2022-11-04T16:46:35.809742Z",
          "iopub.execute_input": "2022-11-04T16:46:35.810206Z",
          "iopub.status.idle": "2022-11-04T16:46:35.990091Z",
          "shell.execute_reply.started": "2022-11-04T16:46:35.810173Z",
          "shell.execute_reply": "2022-11-04T16:46:35.989096Z"
        },
        "trusted": true,
        "id": "5hea0iI14df4"
      },
      "execution_count": null,
      "outputs": []
    },
    {
      "cell_type": "markdown",
      "source": [
        "# Siamese Network with Triplet Loss\n",
        "<div class='alert alert-info'><strong>Note: </strong>Using <strong>Triplet Loss</strong> we can train the network by taking an anchor text and comparing it with both a positive sample and a negative sample. The <strong>dissimilarity between the anchor text and positive text must be low</strong> and the <strong>dissimilarity between the anchor text and the negative text must be high</strong></div>\n",
        "\n",
        "The triplet loss is defined as:\n",
        "\n",
        "<img src='https://miro.medium.com/max/1328/1*nyfPmytStEZCijYl8OEAvQ.png'>\n",
        "\n",
        "- Triplet loss is a loss function for machine learning algorithms where a reference input is compared to a matching input and a non-matching input. The distance from the anchor to the positive is minimized, and the distance from the anchor to the negative input is maximized.\n",
        "- The max and margin m make sure different points at distance > m do not contribute to the ranking loss. This has a significant advantage over contrastive loss.\n",
        "\n",
        "\n",
        "<img src='https://miro.medium.com/max/1400/1*bvBns-k7sO2sNZE3fxWLFg.png'>"
      ],
      "metadata": {
        "id": "W5MpEH4S4df4"
      }
    },
    {
      "cell_type": "markdown",
      "source": [
        "## Data Preparation\n",
        "- The cleaned texts are rearranged and prepared in the anchor, positve and negative format"
      ],
      "metadata": {
        "id": "JNm-8Gzf4df4"
      }
    },
    {
      "cell_type": "code",
      "source": [
        "data = pd.read_csv(\"../input/triplet-data/triplet_data.csv\")\n",
        "data.head(10)"
      ],
      "metadata": {
        "execution": {
          "iopub.status.busy": "2022-11-04T16:46:35.991317Z",
          "iopub.execute_input": "2022-11-04T16:46:35.991567Z",
          "iopub.status.idle": "2022-11-04T16:46:37.648281Z",
          "shell.execute_reply.started": "2022-11-04T16:46:35.991538Z",
          "shell.execute_reply": "2022-11-04T16:46:37.647288Z"
        },
        "trusted": true,
        "id": "QWz4Zn8s4df5"
      },
      "execution_count": null,
      "outputs": []
    },
    {
      "cell_type": "code",
      "source": [
        "len(data)"
      ],
      "metadata": {
        "execution": {
          "iopub.status.busy": "2022-11-04T16:46:37.649365Z",
          "iopub.execute_input": "2022-11-04T16:46:37.649596Z",
          "iopub.status.idle": "2022-11-04T16:46:37.65584Z",
          "shell.execute_reply.started": "2022-11-04T16:46:37.649566Z",
          "shell.execute_reply": "2022-11-04T16:46:37.654884Z"
        },
        "trusted": true,
        "id": "HIkpE-DR4df5"
      },
      "execution_count": null,
      "outputs": []
    },
    {
      "cell_type": "markdown",
      "source": [
        "## Data Splitting\n",
        "- 140000 samples are taken for this model\n",
        "- 80:20 splitting is performed\n",
        "    - 80% taken for training\n",
        "    - 20% taken for validation"
      ],
      "metadata": {
        "id": "viXYg4k04df5"
      }
    },
    {
      "cell_type": "code",
      "source": [
        "train = data.iloc[:int(140000*0.80),:]\n",
        "val = data.iloc[int(140000*0.80):,:]\n",
        "\n",
        "X1_train = encode_text(train['question1_cleaned'].tolist(), tokenizer)\n",
        "X2_train = encode_text(train['question2_cleaned'].tolist(), tokenizer)\n",
        "X3_train = encode_text(train['question3_cleaned'].tolist(), tokenizer)\n",
        "\n",
        "X1_val = encode_text(val['question1_cleaned'].tolist(), tokenizer)\n",
        "X2_val = encode_text(val['question2_cleaned'].tolist(), tokenizer)\n",
        "X3_val = encode_text(val['question3_cleaned'].tolist(), tokenizer)"
      ],
      "metadata": {
        "execution": {
          "iopub.status.busy": "2022-11-04T16:46:49.385779Z",
          "iopub.execute_input": "2022-11-04T16:46:49.386098Z",
          "iopub.status.idle": "2022-11-04T16:47:15.909215Z",
          "shell.execute_reply.started": "2022-11-04T16:46:49.386068Z",
          "shell.execute_reply": "2022-11-04T16:47:15.908155Z"
        },
        "trusted": true,
        "id": "Ub5Yf55_4df5"
      },
      "execution_count": null,
      "outputs": []
    },
    {
      "cell_type": "markdown",
      "source": [
        "## Custom Distance Layer\n",
        "- calculates distane between anchor and positive and anchor and negative"
      ],
      "metadata": {
        "id": "Wyj-th7U4df5"
      }
    },
    {
      "cell_type": "code",
      "source": [
        "class DistanceLayer(Layer):\n",
        "\n",
        "    def __init__(self, **kwargs):\n",
        "        super().__init__(**kwargs)\n",
        "\n",
        "    def call(self, anchor, positive, negative):\n",
        "        ap_distance = tf.reduce_sum(tf.square(anchor - positive), -1)\n",
        "        an_distance = tf.reduce_sum(tf.square(anchor - negative), -1)\n",
        "        return (ap_distance, an_distance)"
      ],
      "metadata": {
        "execution": {
          "iopub.status.busy": "2022-11-04T16:47:15.910898Z",
          "iopub.execute_input": "2022-11-04T16:47:15.911206Z",
          "iopub.status.idle": "2022-11-04T16:47:15.916996Z",
          "shell.execute_reply.started": "2022-11-04T16:47:15.911173Z",
          "shell.execute_reply": "2022-11-04T16:47:15.91606Z"
        },
        "trusted": true,
        "id": "56szryeb4df5"
      },
      "execution_count": null,
      "outputs": []
    },
    {
      "cell_type": "code",
      "source": [
        "from tensorflow.keras import metrics"
      ],
      "metadata": {
        "execution": {
          "iopub.status.busy": "2022-11-04T16:47:15.918356Z",
          "iopub.execute_input": "2022-11-04T16:47:15.919007Z",
          "iopub.status.idle": "2022-11-04T16:47:15.929031Z",
          "shell.execute_reply.started": "2022-11-04T16:47:15.918961Z",
          "shell.execute_reply": "2022-11-04T16:47:15.927983Z"
        },
        "trusted": true,
        "id": "sZNF25-44df5"
      },
      "execution_count": null,
      "outputs": []
    },
    {
      "cell_type": "markdown",
      "source": [
        "## Custom Model\n",
        "- Takes the siamese network architecture as an input and optimizes it with respect to the triplet loss"
      ],
      "metadata": {
        "id": "_eOgjmsI4df5"
      }
    },
    {
      "cell_type": "code",
      "source": [
        "class SiameseModel(Model):\n",
        "\n",
        "    def __init__(self, siamese_network, margin=0.5):\n",
        "        super(SiameseModel, self).__init__()\n",
        "        self.siamese_network = siamese_network\n",
        "        self.margin = margin\n",
        "        self.loss_tracker = metrics.Mean(name=\"loss\")\n",
        "\n",
        "    def call(self, inputs):\n",
        "        return self.siamese_network(inputs)\n",
        "\n",
        "    def train_step(self, data):\n",
        "\n",
        "        with tf.GradientTape() as tape:\n",
        "            loss = self._compute_loss(data)\n",
        "\n",
        "        gradients = tape.gradient(loss, self.siamese_network.trainable_weights)\n",
        "        self.optimizer.apply_gradients(\n",
        "            zip(gradients, self.siamese_network.trainable_weights)\n",
        "        )\n",
        "        self.loss_tracker.update_state(loss)\n",
        "        return {\"loss\": self.loss_tracker.result()}\n",
        "\n",
        "    def test_step(self, data):\n",
        "        loss = self._compute_loss(data)\n",
        "        self.loss_tracker.update_state(loss)\n",
        "        return {\"loss\": self.loss_tracker.result()}\n",
        "\n",
        "    def _compute_loss(self, data):\n",
        "        ap_distance, an_distance = self.siamese_network(data)\n",
        "        loss = ap_distance - an_distance\n",
        "        loss = tf.maximum(loss + self.margin, 0.0)\n",
        "        return loss\n",
        "\n",
        "    @property\n",
        "    def metrics(self):\n",
        "        return [self.loss_tracker]"
      ],
      "metadata": {
        "execution": {
          "iopub.status.busy": "2022-11-04T16:47:15.931195Z",
          "iopub.execute_input": "2022-11-04T16:47:15.931571Z",
          "iopub.status.idle": "2022-11-04T16:47:15.943689Z",
          "shell.execute_reply.started": "2022-11-04T16:47:15.931526Z",
          "shell.execute_reply": "2022-11-04T16:47:15.942532Z"
        },
        "trusted": true,
        "id": "YHrdthMx4df5"
      },
      "execution_count": null,
      "outputs": []
    },
    {
      "cell_type": "code",
      "source": [
        "with strategy.scope():\n",
        "    transformer_model = TFBertModel.from_pretrained(model_checkpoint)\n",
        "\n",
        "    input_ids_in1 = Input(shape=(50,),name='input_ids1', dtype='int32')\n",
        "    input_masks_in1 = Input(shape=(50,), name='attention_mask1', dtype='int32')\n",
        "\n",
        "    anchor_input = Input(name=\"anchor_ids\", shape=(50,), dtype='int32')\n",
        "    anchor_masks = Input(name=\"anchor_mask\", shape=(50,), dtype='int32')\n",
        "\n",
        "    positive_input = Input(name=\"positive_ids\", shape=(50,), dtype='int32')\n",
        "    positive_masks = Input(name=\"positive_mask\", shape=(50,), dtype='int32')\n",
        "\n",
        "    negative_input = Input(name=\"negative_ids\", shape=(50,), dtype='int32')\n",
        "    negative_masks = Input(name=\"negative_mask\", shape=(50,), dtype='int32')\n",
        "\n",
        "    embedding_layer = transformer_model(input_ids_in1, attention_mask=input_masks_in1).last_hidden_state\n",
        "\n",
        "    average = GlobalAveragePooling1D()(embedding_layer)\n",
        "    embeds = Dense(512,activation='relu')(average)\n",
        "\n",
        "    embeddings = Model(inputs=[input_ids_in1,input_masks_in1],outputs=embeds)\n",
        "\n",
        "    for layer in embeddings.layers[:-1]:\n",
        "        layer.trainable = False\n",
        "\n",
        "    embeds1 = embeddings([anchor_input,anchor_masks])\n",
        "    embeds2 = embeddings([positive_input,positive_masks])\n",
        "    embeds3 = embeddings([negative_input,negative_masks])\n",
        "\n",
        "    distances = DistanceLayer()(embeds1,embeds2,embeds3)\n",
        "\n",
        "    siamese_network = Model(\n",
        "        inputs=[anchor_input, anchor_masks, positive_input, positive_masks, negative_input, negative_masks], outputs=distances\n",
        "    )\n",
        "\n",
        "    siamese_model = SiameseModel(siamese_network)\n",
        "    siamese_model.compile(optimizer=tf.keras.optimizers.Adam(0.00001))\n",
        "    history = siamese_model.fit((np.asarray(X1_train['input_ids']),np.asarray(X1_train['attention_masks']),\n",
        "                                   np.asarray(X2_train['input_ids']),np.asarray(X2_train['attention_masks']),\n",
        "                                   np.asarray(X3_train['input_ids']),np.asarray(X3_train['attention_masks'])),\n",
        "                                  epochs=10,\n",
        "                                  validation_data=((np.asarray(X1_val['input_ids']),np.asarray(X1_val['attention_masks']),\n",
        "                                   np.asarray(X2_val['input_ids']),np.asarray(X2_val['attention_masks']),\n",
        "                                   np.asarray(X3_val['input_ids']),np.asarray(X3_val['attention_masks'])),))"
      ],
      "metadata": {
        "execution": {
          "iopub.status.busy": "2022-11-04T16:47:15.945307Z",
          "iopub.execute_input": "2022-11-04T16:47:15.945679Z",
          "iopub.status.idle": "2022-11-04T17:02:23.788553Z",
          "shell.execute_reply.started": "2022-11-04T16:47:15.945624Z",
          "shell.execute_reply": "2022-11-04T17:02:23.787634Z"
        },
        "trusted": true,
        "id": "SHY3d-2a4df5"
      },
      "execution_count": null,
      "outputs": []
    },
    {
      "cell_type": "markdown",
      "source": [
        "# Model Inference\n",
        "- Learning Curve\n",
        "- Cosine Similarity between Embeddings"
      ],
      "metadata": {
        "id": "9ld800ni4df5"
      }
    },
    {
      "cell_type": "markdown",
      "source": [
        "## Learning Curve\n",
        "- The model converges well, but the validation loss doesn't seem to be close to the training loss"
      ],
      "metadata": {
        "id": "OjkD2Lzo4df5"
      }
    },
    {
      "cell_type": "code",
      "source": [
        "plt.figure(figsize=(20,8))\n",
        "plt.plot(history.history['loss'])\n",
        "plt.plot(history.history['val_loss'])\n",
        "plt.title('model loss')\n",
        "plt.ylabel('loss')\n",
        "plt.xlabel('epoch')\n",
        "plt.legend(['train', 'val'], loc='upper left')\n",
        "plt.show()"
      ],
      "metadata": {
        "execution": {
          "iopub.status.busy": "2022-11-04T17:11:30.138501Z",
          "iopub.execute_input": "2022-11-04T17:11:30.138817Z",
          "iopub.status.idle": "2022-11-04T17:11:30.471132Z",
          "shell.execute_reply.started": "2022-11-04T17:11:30.138786Z",
          "shell.execute_reply": "2022-11-04T17:11:30.469923Z"
        },
        "trusted": true,
        "id": "XxK-Hzvm4df5"
      },
      "execution_count": null,
      "outputs": []
    },
    {
      "cell_type": "markdown",
      "source": [
        "## Cosine Similarity between Embeddings\n",
        "\n",
        "<div class='alert alert-info'><strong>Note: </strong>The Cosine Similarity is a better metric than Euclidean distance for text similarity because if the two text document far apart by Euclidean distance, there are still chances that they are close to each other in terms of their context.</div>\n",
        "\n",
        "<img src='https://developers.google.com/machine-learning/crash-course/images/linear-relationships.svg'>"
      ],
      "metadata": {
        "id": "HJpaPatQ4df5"
      }
    },
    {
      "cell_type": "code",
      "source": [
        "def get_cosine_similarity(sentence1, sentence2):\n",
        "\n",
        "    x1 = text_cleaning(sentence1)\n",
        "    x1 = encode_text([x1], tokenizer)\n",
        "    x2 = text_cleaning(sentence2)\n",
        "    x2 = encode_text([x2], tokenizer)\n",
        "\n",
        "    x1_inputs = np.array(x1['input_ids'])\n",
        "    x1_masks = np.array(x1['attention_masks'])\n",
        "    x2_inputs = np.array(x2['input_ids'])\n",
        "    x2_masks = np.array(x2['attention_masks'])\n",
        "\n",
        "    embeddings1 = embeddings([x1_inputs,x1_masks])\n",
        "    embeddings2 = embeddings([x2_inputs,x2_masks])\n",
        "\n",
        "    cosine_similarity = metrics.CosineSimilarity()\n",
        "\n",
        "    return cosine_similarity(embeddings1,embeddings2).numpy()"
      ],
      "metadata": {
        "execution": {
          "iopub.status.busy": "2022-11-04T17:11:35.952704Z",
          "iopub.execute_input": "2022-11-04T17:11:35.953039Z",
          "iopub.status.idle": "2022-11-04T17:11:35.96085Z",
          "shell.execute_reply.started": "2022-11-04T17:11:35.953004Z",
          "shell.execute_reply": "2022-11-04T17:11:35.959728Z"
        },
        "trusted": true,
        "id": "1xsvw7SM4df5"
      },
      "execution_count": null,
      "outputs": []
    },
    {
      "cell_type": "markdown",
      "source": [
        "## Sample Test Cases\n",
        "- Cosine Similarity ranges from 0 to 1.\n",
        "- Value closer to 1 indicates higher similarity and a value closer to 0 indicates dissimilarity"
      ],
      "metadata": {
        "id": "P6po9ttT4df5"
      }
    },
    {
      "cell_type": "code",
      "source": [
        "sentence1 = 'Is Earth circle in shape ?'\n",
        "sentence2 = 'Should I learn python as it is very popular ?'\n",
        "get_cosine_similarity(sentence1,sentence2)"
      ],
      "metadata": {
        "execution": {
          "iopub.status.busy": "2022-11-04T17:11:54.49495Z",
          "iopub.execute_input": "2022-11-04T17:11:54.495266Z",
          "iopub.status.idle": "2022-11-04T17:11:56.058376Z",
          "shell.execute_reply.started": "2022-11-04T17:11:54.495232Z",
          "shell.execute_reply": "2022-11-04T17:11:56.057574Z"
        },
        "trusted": true,
        "id": "XaO_5w1n4df5"
      },
      "execution_count": null,
      "outputs": []
    },
    {
      "cell_type": "code",
      "source": [
        "sentence1 = 'Python is one of the most popular programming language out there'\n",
        "sentence2 = 'Should I learn python programming as it is very popular ?'\n",
        "get_cosine_similarity(sentence1,sentence2)"
      ],
      "metadata": {
        "execution": {
          "iopub.status.busy": "2022-11-04T17:12:22.678956Z",
          "iopub.execute_input": "2022-11-04T17:12:22.679841Z",
          "iopub.status.idle": "2022-11-04T17:12:24.234284Z",
          "shell.execute_reply.started": "2022-11-04T17:12:22.679794Z",
          "shell.execute_reply": "2022-11-04T17:12:24.233348Z"
        },
        "trusted": true,
        "id": "d-5uXINB4df6"
      },
      "execution_count": null,
      "outputs": []
    },
    {
      "cell_type": "code",
      "source": [
        "sentence1 = 'Which GPU gives a better performance NVIDIA or AMD ?'\n",
        "sentence2 = 'What is the recipe for Kolkata Chicken Roll?'\n",
        "get_cosine_similarity(sentence1,sentence2)"
      ],
      "metadata": {
        "execution": {
          "iopub.status.busy": "2022-11-04T17:13:43.117824Z",
          "iopub.execute_input": "2022-11-04T17:13:43.118305Z",
          "iopub.status.idle": "2022-11-04T17:13:44.695488Z",
          "shell.execute_reply.started": "2022-11-04T17:13:43.118254Z",
          "shell.execute_reply": "2022-11-04T17:13:44.694556Z"
        },
        "trusted": true,
        "id": "VRbGIOzs4df6"
      },
      "execution_count": null,
      "outputs": []
    },
    {
      "cell_type": "code",
      "source": [
        "sentence1 = 'Which GPU gives a better performance NVIDIA or AMD ?'\n",
        "sentence2 = 'My friend has a NVIDIA GPU, and he suggests that it gives a very smooth gaming performance'\n",
        "get_cosine_similarity(sentence1,sentence2)"
      ],
      "metadata": {
        "execution": {
          "iopub.status.busy": "2022-11-04T17:14:22.01874Z",
          "iopub.execute_input": "2022-11-04T17:14:22.01946Z",
          "iopub.status.idle": "2022-11-04T17:14:23.664363Z",
          "shell.execute_reply.started": "2022-11-04T17:14:22.019416Z",
          "shell.execute_reply": "2022-11-04T17:14:23.663214Z"
        },
        "trusted": true,
        "id": "eSoEvHr-4df6"
      },
      "execution_count": null,
      "outputs": []
    },
    {
      "cell_type": "code",
      "source": [
        "sentence1 = 'Which GPU gives a better performance NVIDIA or AMD ?'\n",
        "sentence2 = 'NVIDIA manufactures the best performing GPUS'\n",
        "get_cosine_similarity(sentence1,sentence2)"
      ],
      "metadata": {
        "execution": {
          "iopub.status.busy": "2022-11-04T17:15:31.569547Z",
          "iopub.execute_input": "2022-11-04T17:15:31.569921Z",
          "iopub.status.idle": "2022-11-04T17:15:33.163966Z",
          "shell.execute_reply.started": "2022-11-04T17:15:31.56987Z",
          "shell.execute_reply": "2022-11-04T17:15:33.162726Z"
        },
        "trusted": true,
        "id": "cKV_s8Pf4df6"
      },
      "execution_count": null,
      "outputs": []
    },
    {
      "cell_type": "markdown",
      "source": [
        "<div class='alert alert-success'><strong>Conclusion:</strong>\n",
        "    <li>Both the architectures seem to be performing well in terms of their inferences</li>\n",
        "    <li>Original Siamese network can be evalutated in terms of classification metrics and similar sentences can be found using <strong>probability scores</strong></li>\n",
        "    <li>Siamese network with triplet loss can be evaluated in terms of cosine distances and similar sentences can be found using <strong>higher cosine distances</strong></li>\n",
        "    <li>For a real time scenario a metric like <strong>Hit Rate or User Engagement</strong> will prove to be more useful to get an infication of the usability of the model</li>\n",
        "</div>"
      ],
      "metadata": {
        "id": "K0_UxYxL4df6"
      }
    }
  ]
}